{
 "cells": [
  {
   "cell_type": "code",
   "execution_count": 1,
<<<<<<< HEAD
   "id": "ec9b5bac",
=======
>>>>>>> Sofi_branch
   "metadata": {},
   "outputs": [
    {
     "name": "stdout",
     "output_type": "stream",
     "text": [
      "PyTorch Version:  1.12.1\n",
      "Torchvision Version:  0.13.1\n",
      "Using: cuda:0\n"
     ]
    }
   ],
   "source": [
    "from __future__ import print_function \n",
    "from __future__ import division\n",
    "import torch\n",
    "import torch.nn as nn\n",
    "import torch.optim as optim\n",
<<<<<<< HEAD
=======
    "import torch.nn.functional as F\n",
>>>>>>> Sofi_branch
    "import numpy as np\n",
    "import torchvision\n",
    "from torchvision import datasets, models, transforms\n",
    "\n",
    "from Data.DataLoader import *\n",
<<<<<<< HEAD
=======
    "from models.Models import *\n",
>>>>>>> Sofi_branch
    "\n",
    "from mpl_toolkits.mplot3d import Axes3D\n",
    "import matplotlib.pyplot as plt\n",
    "import time\n",
    "import os\n",
    "import copy\n",
    "print(\"PyTorch Version: \",torch.__version__)\n",
    "print(\"Torchvision Version: \",torchvision.__version__)\n",
    "\n",
    "%matplotlib inline\n",
    "\n",
    "\n",
    "# Detect if we have a GPU available\n",
    "device = torch.device(\"cuda:0\" if torch.cuda.is_available() else \"cpu\")\n",
    "print(\"Using:\",device)"
   ]
  },
  {
   "cell_type": "code",
   "execution_count": 2,
<<<<<<< HEAD
   "id": "112a2451",
   "metadata": {},
   "outputs": [],
   "source": [
=======
   "metadata": {},
   "outputs": [],
   "source": [
    "#Global variables\n",
>>>>>>> Sofi_branch
    "normalize = transforms.Normalize(\n",
    "   mean=[0.485, 0.456, 0.406],\n",
    "   std=[0.229, 0.224, 0.225]\n",
    ")\n",
    "\n",
<<<<<<< HEAD
    "input_size = 224\n",
    "\n",
    "transformer=data_transforms3 = {\n",
    "    'train': transforms.Compose([\n",
    "        transforms.Resize(input_size),\n",
=======
    "resize_size=256\n",
    "input_size = 224\n",
    "\n",
    "    \n",
    "#Transformation 1 (Basic)\n",
    "data_transforms1 = {\n",
    "    'train': transforms.Compose([\n",
    "        transforms.Resize(resize_size), #Establim la mida a 224\n",
    "        transforms.CenterCrop(input_size), #Centrem el tallat de les imatges\n",
    "        transforms.ToTensor(),\n",
    "        normalize\n",
    "    ]),\n",
    "    'val': transforms.Compose([\n",
    "        transforms.Resize(resize_size),\n",
    "        transforms.CenterCrop(input_size),\n",
    "        transforms.ToTensor(),\n",
    "        normalize\n",
    "    ]),\n",
    "    'test': transforms.Compose([\n",
    "        transforms.Resize(resize_size),\n",
    "        transforms.CenterCrop(input_size),\n",
    "        transforms.ToTensor(),\n",
    "        normalize\n",
    "    ]),\n",
    "}\n",
    "\n",
    "\n",
    "#Transformation 2 (Grey Scale)\n",
    "data_transforms2 = {\n",
    "    'train': transforms.Compose([\n",
    "        transforms.Resize(resize_size),\n",
    "        transforms.CenterCrop(input_size),\n",
    "        transforms.Grayscale(3), #Output channels 3, RGB but in gray scale\n",
    "        transforms.ToTensor()\n",
    "\n",
    "    ]),\n",
    "    'val': transforms.Compose([\n",
    "        transforms.Resize(resize_size),\n",
    "        transforms.CenterCrop(input_size),\n",
    "        transforms.ToTensor(),\n",
    "        normalize\n",
    "    ]),\n",
    "    'test': transforms.Compose([\n",
    "        transforms.Resize(resize_size),\n",
    "        transforms.CenterCrop(input_size),\n",
    "        transforms.ToTensor(),\n",
    "        normalize\n",
    "    ]),\n",
    "}\n",
    "\n",
    "#Transformation 3 (Complete one)\n",
    "data_transforms3 = {\n",
    "    'train': transforms.Compose([\n",
    "        transforms.Resize(resize_size),\n",
>>>>>>> Sofi_branch
    "        transforms.CenterCrop(input_size),\n",
    "        transforms.RandomVerticalFlip(p=0.5), #Girem verticalment\n",
    "        transforms.RandomHorizontalFlip(p=0.5), #Girem horitzontalment\n",
    "        transforms.GaussianBlur(kernel_size=(5, 9), sigma=(0.1, 5)), #Apliquem un blur\n",
    "        transforms.ToTensor(),\n",
    "        normalize\n",
    "    ]),\n",
    "    'val': transforms.Compose([\n",
<<<<<<< HEAD
    "        transforms.Resize(input_size),\n",
=======
    "        transforms.Resize(resize_size),\n",
>>>>>>> Sofi_branch
    "        transforms.CenterCrop(input_size),\n",
    "        transforms.ToTensor(),\n",
    "        normalize\n",
    "    ]),\n",
    "    'test': transforms.Compose([\n",
<<<<<<< HEAD
    "        transforms.Resize(input_size),\n",
=======
    "        transforms.Resize(resize_size),\n",
>>>>>>> Sofi_branch
    "        transforms.CenterCrop(input_size),\n",
    "        transforms.ToTensor(),\n",
    "        normalize\n",
    "    ]),\n",
<<<<<<< HEAD
=======
    "}\n",
    "\n",
    "#Transformation 4 (jitter)\n",
    "data_transforms4 = {\n",
    "    'train': transforms.Compose([\n",
    "        transforms.Resize(resize_size),\n",
    "        transforms.CenterCrop(input_size),\n",
    "        transforms.ColorJitter(brightness=.5, hue=.3), #Jitter color\n",
    "        transforms.ToTensor(),\n",
    "        normalize\n",
    "    ]),\n",
    "    'val': transforms.Compose([\n",
    "        transforms.Resize(resize_size),\n",
    "        transforms.CenterCrop(input_size),\n",
    "        transforms.ToTensor(),\n",
    "        normalize\n",
    "    ]),\n",
    "    'test': transforms.Compose([\n",
    "        transforms.Resize(resize_size),\n",
    "        transforms.CenterCrop(input_size),\n",
    "        transforms.ToTensor(),\n",
    "        normalize\n",
    "    ]),\n",
    "}\n",
    "\n",
    "#transform 5\n",
    "\n",
    "channel_mean = torch.Tensor([0.485, 0.456, 0.406])\n",
    "channel_std = torch.Tensor([0.229, 0.224, 0.225])\n",
    "\n",
    "data_transforms5={\n",
    "    'train': transforms.Compose([\n",
    "    transforms.Resize(256),\n",
    "    transforms.CenterCrop(224),\n",
    "\n",
    "    transforms.RandomHorizontalFlip(p=0.6),\n",
    "    transforms.RandomRotation(degrees=(30)),\n",
    "\n",
    "    transforms.ToTensor(),\n",
    "    transforms.Normalize(mean=channel_mean, std=channel_std),\n",
    "]),\n",
    "    'val': transforms.Compose([\n",
    "    transforms.Resize(256),\n",
    "    transforms.CenterCrop(224),\n",
    "    transforms.ToTensor(),\n",
    "    transforms.Normalize(mean=channel_mean, std=channel_std),\n",
    "])\n",
>>>>>>> Sofi_branch
    "}"
   ]
  },
  {
   "cell_type": "code",
   "execution_count": 3,
<<<<<<< HEAD
   "id": "025a17b9",
=======
>>>>>>> Sofi_branch
   "metadata": {},
   "outputs": [
    {
     "name": "stdout",
     "output_type": "stream",
     "text": [
      "Using:  cuda:0\n"
     ]
    }
   ],
   "source": [
    "batch_size=12\n",
<<<<<<< HEAD
    "num_workers=4\n",
    "DataLoader=DogsDatasetDataloders(transformer, batch_size, num_workers)"
=======
    "num_workers=8\n",
    "DataLoader=DogsDatasetDataloders(data_transforms4, batch_size, num_workers)"
>>>>>>> Sofi_branch
   ]
  },
  {
   "cell_type": "code",
   "execution_count": 4,
<<<<<<< HEAD
   "id": "f8bf13b5",
=======
>>>>>>> Sofi_branch
   "metadata": {},
   "outputs": [
    {
     "data": {
      "text/plain": [
<<<<<<< HEAD
       "{'train': <torch.utils.data.dataloader.DataLoader at 0x28c8f89a8e0>,\n",
       " 'val': <torch.utils.data.dataloader.DataLoader at 0x28c8f89acd0>}"
=======
       "{'train': <torch.utils.data.dataloader.DataLoader at 0x271e4a67bb0>,\n",
       " 'val': <torch.utils.data.dataloader.DataLoader at 0x271d88c96a0>}"
>>>>>>> Sofi_branch
      ]
     },
     "execution_count": 4,
     "metadata": {},
     "output_type": "execute_result"
    }
   ],
   "source": [
    "DataLoader"
   ]
  },
  {
   "cell_type": "code",
   "execution_count": 5,
<<<<<<< HEAD
   "id": "149b797e",
=======
>>>>>>> Sofi_branch
   "metadata": {},
   "outputs": [],
   "source": [
    "def train_model(model, dataloaders, criterion, optimizer, num_epochs=25):\n",
    "    since = time.time()\n",
    "\n",
    "    acc_history = {\"train\": [], \"val\": []}\n",
    "    losses = {\"train\": [], \"val\": []}\n",
    "\n",
    "    # we will keep a copy of the best weights so far according to validation accuracy\n",
    "    best_model_wts = copy.deepcopy(model.state_dict())\n",
    "    best_acc = 0.0\n",
    "\n",
    "    for epoch in range(num_epochs):\n",
    "        print('Epoch {}/{}'.format(epoch, num_epochs - 1))\n",
    "        print('-' * 10)\n",
    "\n",
    "        # Each epoch has a training and validation phase\n",
    "        for phase in ['train', 'val']:\n",
    "            if phase == 'train':\n",
    "                model.train()  # Set model to training mode\n",
    "            else:\n",
    "                model.eval()   # Set model to evaluate mode\n",
    "\n",
    "            running_loss = 0.0\n",
    "            running_corrects = 0\n",
    "\n",
    "            # Iterate over data.\n",
    "            for inputs, labels in dataloaders[phase]:\n",
    "                inputs = inputs.to(device)\n",
    "                labels = labels.to(device)\n",
    "\n",
    "                # zero the parameter gradients\n",
    "                optimizer.zero_grad()\n",
    "\n",
    "                # forward\n",
    "                # track history if only in train\n",
    "                with torch.set_grad_enabled(phase == 'train'):\n",
    "                    # Get model outputs and calculate loss\n",
    "                    outputs = model(inputs)\n",
    "                    loss = criterion(outputs, labels)\n",
    "                    losses[phase].append(loss.item())\n",
    "\n",
    "                    _, preds = torch.max(outputs, 1)\n",
    "\n",
    "                    # backward + optimize only if in training phase\n",
    "                    if phase == 'train':\n",
    "                        loss.backward()\n",
    "                        optimizer.step()\n",
    "\n",
    "                # statistics\n",
    "                running_loss += loss.item() * inputs.size(0)\n",
    "                running_corrects += torch.sum(preds == labels.data)\n",
    "\n",
    "            epoch_loss = running_loss / len(dataloaders[phase].dataset)\n",
    "            epoch_acc = running_corrects.double() / len(dataloaders[phase].dataset)\n",
    "\n",
    "            print('{} Loss: {:.4f} Acc: {:.4f}'.format(phase, epoch_loss, epoch_acc))\n",
    "\n",
    "            # deep copy the model\n",
    "            if phase == 'val' and epoch_acc > best_acc:\n",
    "                best_acc = epoch_acc\n",
    "                best_model_wts = copy.deepcopy(model.state_dict())\n",
    "            \n",
    "            acc_history[phase].append(epoch_acc.item())\n",
    "\n",
    "        print()\n",
    "\n",
    "    time_elapsed = time.time() - since\n",
    "    print('Training complete in {:.0f}m {:.0f}s'.format(time_elapsed // 60, time_elapsed % 60))\n",
    "    print('Best val Acc: {:4f}'.format(best_acc))\n",
    "\n",
    "    # load best model weights\n",
    "    model.load_state_dict(best_model_wts)\n",
    "    return model, acc_history, losses"
   ]
  },
  {
   "cell_type": "code",
   "execution_count": 6,
<<<<<<< HEAD
   "id": "e6830258",
   "metadata": {},
   "outputs": [
    {
     "name": "stdout",
     "output_type": "stream",
     "text": [
      "ResNet(\n",
      "  (conv1): Conv2d(3, 64, kernel_size=(7, 7), stride=(2, 2), padding=(3, 3), bias=False)\n",
      "  (bn1): BatchNorm2d(64, eps=1e-05, momentum=0.1, affine=True, track_running_stats=True)\n",
      "  (relu): ReLU(inplace=True)\n",
      "  (maxpool): MaxPool2d(kernel_size=3, stride=2, padding=1, dilation=1, ceil_mode=False)\n",
      "  (layer1): Sequential(\n",
      "    (0): BasicBlock(\n",
      "      (conv1): Conv2d(64, 64, kernel_size=(3, 3), stride=(1, 1), padding=(1, 1), bias=False)\n",
      "      (bn1): BatchNorm2d(64, eps=1e-05, momentum=0.1, affine=True, track_running_stats=True)\n",
      "      (relu): ReLU(inplace=True)\n",
      "      (conv2): Conv2d(64, 64, kernel_size=(3, 3), stride=(1, 1), padding=(1, 1), bias=False)\n",
      "      (bn2): BatchNorm2d(64, eps=1e-05, momentum=0.1, affine=True, track_running_stats=True)\n",
      "    )\n",
      "    (1): BasicBlock(\n",
      "      (conv1): Conv2d(64, 64, kernel_size=(3, 3), stride=(1, 1), padding=(1, 1), bias=False)\n",
      "      (bn1): BatchNorm2d(64, eps=1e-05, momentum=0.1, affine=True, track_running_stats=True)\n",
      "      (relu): ReLU(inplace=True)\n",
      "      (conv2): Conv2d(64, 64, kernel_size=(3, 3), stride=(1, 1), padding=(1, 1), bias=False)\n",
      "      (bn2): BatchNorm2d(64, eps=1e-05, momentum=0.1, affine=True, track_running_stats=True)\n",
      "    )\n",
      "  )\n",
      "  (layer2): Sequential(\n",
      "    (0): BasicBlock(\n",
      "      (conv1): Conv2d(64, 128, kernel_size=(3, 3), stride=(2, 2), padding=(1, 1), bias=False)\n",
      "      (bn1): BatchNorm2d(128, eps=1e-05, momentum=0.1, affine=True, track_running_stats=True)\n",
      "      (relu): ReLU(inplace=True)\n",
      "      (conv2): Conv2d(128, 128, kernel_size=(3, 3), stride=(1, 1), padding=(1, 1), bias=False)\n",
      "      (bn2): BatchNorm2d(128, eps=1e-05, momentum=0.1, affine=True, track_running_stats=True)\n",
      "      (downsample): Sequential(\n",
      "        (0): Conv2d(64, 128, kernel_size=(1, 1), stride=(2, 2), bias=False)\n",
      "        (1): BatchNorm2d(128, eps=1e-05, momentum=0.1, affine=True, track_running_stats=True)\n",
      "      )\n",
      "    )\n",
      "    (1): BasicBlock(\n",
      "      (conv1): Conv2d(128, 128, kernel_size=(3, 3), stride=(1, 1), padding=(1, 1), bias=False)\n",
      "      (bn1): BatchNorm2d(128, eps=1e-05, momentum=0.1, affine=True, track_running_stats=True)\n",
      "      (relu): ReLU(inplace=True)\n",
      "      (conv2): Conv2d(128, 128, kernel_size=(3, 3), stride=(1, 1), padding=(1, 1), bias=False)\n",
      "      (bn2): BatchNorm2d(128, eps=1e-05, momentum=0.1, affine=True, track_running_stats=True)\n",
      "    )\n",
      "  )\n",
      "  (layer3): Sequential(\n",
      "    (0): BasicBlock(\n",
      "      (conv1): Conv2d(128, 256, kernel_size=(3, 3), stride=(2, 2), padding=(1, 1), bias=False)\n",
      "      (bn1): BatchNorm2d(256, eps=1e-05, momentum=0.1, affine=True, track_running_stats=True)\n",
      "      (relu): ReLU(inplace=True)\n",
      "      (conv2): Conv2d(256, 256, kernel_size=(3, 3), stride=(1, 1), padding=(1, 1), bias=False)\n",
      "      (bn2): BatchNorm2d(256, eps=1e-05, momentum=0.1, affine=True, track_running_stats=True)\n",
      "      (downsample): Sequential(\n",
      "        (0): Conv2d(128, 256, kernel_size=(1, 1), stride=(2, 2), bias=False)\n",
      "        (1): BatchNorm2d(256, eps=1e-05, momentum=0.1, affine=True, track_running_stats=True)\n",
      "      )\n",
      "    )\n",
      "    (1): BasicBlock(\n",
      "      (conv1): Conv2d(256, 256, kernel_size=(3, 3), stride=(1, 1), padding=(1, 1), bias=False)\n",
      "      (bn1): BatchNorm2d(256, eps=1e-05, momentum=0.1, affine=True, track_running_stats=True)\n",
      "      (relu): ReLU(inplace=True)\n",
      "      (conv2): Conv2d(256, 256, kernel_size=(3, 3), stride=(1, 1), padding=(1, 1), bias=False)\n",
      "      (bn2): BatchNorm2d(256, eps=1e-05, momentum=0.1, affine=True, track_running_stats=True)\n",
      "    )\n",
      "  )\n",
      "  (layer4): Sequential(\n",
      "    (0): BasicBlock(\n",
      "      (conv1): Conv2d(256, 512, kernel_size=(3, 3), stride=(2, 2), padding=(1, 1), bias=False)\n",
      "      (bn1): BatchNorm2d(512, eps=1e-05, momentum=0.1, affine=True, track_running_stats=True)\n",
      "      (relu): ReLU(inplace=True)\n",
      "      (conv2): Conv2d(512, 512, kernel_size=(3, 3), stride=(1, 1), padding=(1, 1), bias=False)\n",
      "      (bn2): BatchNorm2d(512, eps=1e-05, momentum=0.1, affine=True, track_running_stats=True)\n",
      "      (downsample): Sequential(\n",
      "        (0): Conv2d(256, 512, kernel_size=(1, 1), stride=(2, 2), bias=False)\n",
      "        (1): BatchNorm2d(512, eps=1e-05, momentum=0.1, affine=True, track_running_stats=True)\n",
      "      )\n",
      "    )\n",
      "    (1): BasicBlock(\n",
      "      (conv1): Conv2d(512, 512, kernel_size=(3, 3), stride=(1, 1), padding=(1, 1), bias=False)\n",
      "      (bn1): BatchNorm2d(512, eps=1e-05, momentum=0.1, affine=True, track_running_stats=True)\n",
      "      (relu): ReLU(inplace=True)\n",
      "      (conv2): Conv2d(512, 512, kernel_size=(3, 3), stride=(1, 1), padding=(1, 1), bias=False)\n",
      "      (bn2): BatchNorm2d(512, eps=1e-05, momentum=0.1, affine=True, track_running_stats=True)\n",
      "    )\n",
      "  )\n",
      "  (avgpool): AdaptiveAvgPool2d(output_size=(1, 1))\n",
      "  (fc): Linear(in_features=512, out_features=120, bias=True)\n",
      ")\n"
     ]
    }
   ],
   "source": [
    "def initialize_model(num_classes):\n",
    "    # Resnet18 \n",
    "    model = models.resnet18()\n",
    "    \n",
    "    model.fc = nn.Linear(512,num_classes)\n",
    "    \n",
    "    input_size = 224\n",
    "        \n",
    "    return model, input_size\n",
    "\n",
    "\n",
    "# Number of classes in the dataset\n",
    "num_classes = 120\n",
    "\n",
    "# Initialize the model\n",
    "model, input_size = initialize_model(num_classes)\n",
    "\n",
    "# Print the model we just instantiated\n",
    "print(model)"
=======
   "metadata": {},
   "outputs": [],
   "source": [
    "def set_parameter_requires_grad(model, feature_extracting):\n",
    "    if feature_extracting:\n",
    "        for param in model.parameters():\n",
    "            param.requires_grad = False"
   ]
  },
  {
   "cell_type": "markdown",
   "metadata": {},
   "source": [
    "# Regnet 16"
>>>>>>> Sofi_branch
   ]
  },
  {
   "cell_type": "code",
<<<<<<< HEAD
   "execution_count": 7,
   "id": "39b59ff3",
   "metadata": {},
   "outputs": [
    {
     "name": "stdout",
     "output_type": "stream",
     "text": [
      "Epoch 0/14\n",
      "----------\n",
      "train Loss: 4.8468 Acc: 0.0134\n",
      "val Loss: 4.8565 Acc: 0.0153\n",
      "\n",
      "Epoch 1/14\n",
      "----------\n",
      "train Loss: 4.6028 Acc: 0.0243\n",
      "val Loss: 4.5425 Acc: 0.0261\n",
      "\n",
      "Epoch 2/14\n",
      "----------\n",
      "train Loss: 4.5117 Acc: 0.0306\n",
      "val Loss: 4.4685 Acc: 0.0454\n",
      "\n",
      "Epoch 3/14\n",
      "----------\n",
      "train Loss: 4.4176 Acc: 0.0358\n",
      "val Loss: 4.4792 Acc: 0.0421\n",
      "\n",
      "Epoch 4/14\n",
      "----------\n",
      "train Loss: 4.3071 Acc: 0.0520\n",
      "val Loss: 4.3113 Acc: 0.0509\n",
      "\n",
      "Epoch 5/14\n",
      "----------\n",
      "train Loss: 4.2467 Acc: 0.0534\n",
      "val Loss: 4.2470 Acc: 0.0584\n",
      "\n",
      "Epoch 6/14\n",
      "----------\n",
      "train Loss: 4.1774 Acc: 0.0615\n",
      "val Loss: 4.2065 Acc: 0.0630\n",
      "\n",
      "Epoch 7/14\n",
      "----------\n",
      "train Loss: 4.1187 Acc: 0.0717\n",
      "val Loss: 4.4138 Acc: 0.0577\n",
      "\n",
      "Epoch 8/14\n",
      "----------\n",
      "train Loss: 4.0335 Acc: 0.0802\n",
      "val Loss: 4.1598 Acc: 0.0741\n",
      "\n",
      "Epoch 9/14\n",
      "----------\n",
      "train Loss: 3.9691 Acc: 0.0901\n",
      "val Loss: 4.2546 Acc: 0.0731\n",
      "\n",
      "Epoch 10/14\n",
      "----------\n",
      "train Loss: 3.9018 Acc: 0.0990\n",
      "val Loss: 4.0365 Acc: 0.0894\n",
      "\n",
      "Epoch 11/14\n",
      "----------\n",
      "train Loss: 3.8027 Acc: 0.1090\n",
      "val Loss: 4.1450 Acc: 0.0822\n",
      "\n",
      "Epoch 12/14\n",
      "----------\n",
      "train Loss: 3.7384 Acc: 0.1203\n",
      "val Loss: 3.9387 Acc: 0.1034\n",
      "\n",
      "Epoch 13/14\n",
      "----------\n",
      "train Loss: 3.6481 Acc: 0.1368\n",
      "val Loss: 3.9448 Acc: 0.1103\n",
      "\n",
      "Epoch 14/14\n",
      "----------\n",
      "train Loss: 3.5562 Acc: 0.1483\n",
      "val Loss: 4.0606 Acc: 0.0976\n",
      "\n",
      "Training complete in 16m 23s\n",
      "Best val Acc: 0.110277\n"
     ]
    }
   ],
=======
   "execution_count": 12,
   "metadata": {},
   "outputs": [],
   "source": [
    "# Number of classes in the dataset\n",
    "num_classes = 120\n",
    "\n",
    "# Initialize the model\n",
    "model, input_size = initialize_model_regnet_x_16(num_classes)"
   ]
  },
  {
   "cell_type": "code",
   "execution_count": 13,
   "metadata": {},
   "outputs": [],
>>>>>>> Sofi_branch
   "source": [
    "# Send the model to GPU\n",
    "model = model.to(device)\n",
    "\n",
    "# Setup the loss fxn\n",
    "criterion = nn.CrossEntropyLoss()\n",
    "\n",
    "# Number of epochs to train for \n",
    "num_epochs = 15\n",
    "\n",
<<<<<<< HEAD
    "optimizer_ft = optim.Adam(model.parameters(), lr=0.001)\n",
    "\n",
    "# Train and evaluate\n",
    "model1, hist1, losses1 = train_model(model, DataLoader, criterion, optimizer_ft, num_epochs=num_epochs)"
=======
    "#optimizer_ft = optim.Adam(model.parameters(), lr=0.001)\n",
    "\n",
    "# Train and evaluate\n",
    "#model1, hist1, losses1 = train_model(model, DataLoader, criterion, optimizer_ft, num_epochs=num_epochs)"
>>>>>>> Sofi_branch
   ]
  },
  {
   "cell_type": "code",
<<<<<<< HEAD
   "execution_count": 8,
   "id": "16a2b83a",
   "metadata": {},
   "outputs": [
    {
     "data": {
      "image/png": "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\n",
      "text/plain": [
       "<Figure size 1152x432 with 2 Axes>"
      ]
     },
     "metadata": {
      "needs_background": "light"
     },
     "output_type": "display_data"
    }
   ],
   "source": [
=======
   "execution_count": 14,
   "metadata": {},
   "outputs": [],
   "source": [
    "def get_accuracy(output, label):\n",
    "    output = output.to(\"cpu\")\n",
    "    label = label.to(\"cpu\")\n",
    "\n",
    "    sm = F.softmax(output, dim=1)\n",
    "    _, index = torch.max(sm, dim=1)\n",
    "    return torch.sum((label == index)) / label.size()[0]"
   ]
  },
  {
   "cell_type": "code",
   "execution_count": 15,
   "metadata": {},
   "outputs": [],
   "source": [
    "def train(model, dataloader):\n",
    "    model.train()\n",
    "    running_loss = 0.0\n",
    "    total_loss = 0.0\n",
    "    running_acc = 0.0\n",
    "    total_acc = 0.0\n",
    "\n",
    "    for batch_idx, (batch_img, batch_label) in enumerate(dataloader):\n",
    "\n",
    "        batch_img = batch_img.to(device)\n",
    "        batch_label = batch_label.to(device)\n",
    "\n",
    "        optimizer.zero_grad()\n",
    "        output = model(batch_img)\n",
    "        loss = criterion(output, batch_label)\n",
    "        loss.backward()\n",
    "        optimizer.step()\n",
    "\n",
    "        running_loss += loss.item()\n",
    "        total_loss += loss.item()\n",
    "\n",
    "        acc = get_accuracy(output, batch_label)\n",
    "        running_acc += acc\n",
    "        total_acc += acc\n",
    "\n",
    "        if batch_idx % 100 == 0 and batch_idx != 0:\n",
    "            print(f\"[step: {batch_idx:4d}/{len(dataloader)}] loss: {running_loss / 100:.3f}\")\n",
    "            running_loss = 0.0\n",
    "            running_acc = 0.0\n",
    "    \n",
    "    return total_loss / len(dataloader), total_acc / len(dataloader)\n",
    "\n",
    "def validate(model, dataloader):\n",
    "    model.eval()\n",
    "    total_loss = 0.0\n",
    "    total_acc = 0.0\n",
    "\n",
    "    for batch_idx, (batch_img, batch_label) in enumerate(dataloader):\n",
    "\n",
    "        batch_img = batch_img.to(device)\n",
    "        batch_label = batch_label.to(device)\n",
    "\n",
    "        # optimizer.zero_grad()\n",
    "        output = model(batch_img)\n",
    "        loss = criterion(output, batch_label)\n",
    "        # loss.backward()\n",
    "        # optimizer.step()\n",
    "\n",
    "        total_loss += loss.item()\n",
    "        acc = get_accuracy(output, batch_label)\n",
    "        total_acc += acc\n",
    "    \n",
    "    return total_loss / len(dataloader), total_acc / len(dataloader)"
   ]
  },
  {
   "cell_type": "code",
   "execution_count": null,
   "metadata": {},
   "outputs": [
    {
     "name": "stdout",
     "output_type": "stream",
     "text": [
      "[step:  100/597] loss: 7.588\n",
      "[step:  200/597] loss: 4.480\n",
      "[step:  300/597] loss: 3.923\n",
      "[step:  400/597] loss: 4.328\n",
      "[step:  500/597] loss: 3.874\n",
      "Epoch:  0, training loss: 4.671, training acc: 0.345 validation loss: 2.046, validation acc: 0.655\n",
      "[step:  100/597] loss: 2.965\n",
      "[step:  200/597] loss: 3.074\n",
      "[step:  300/597] loss: 3.584\n",
      "[step:  400/597] loss: 3.705\n",
      "[step:  500/597] loss: 3.358\n"
     ]
    }
   ],
   "source": [
    "EPOCHS = 20\n",
    "train_loss_history = []\n",
    "valid_loss_history = []\n",
    "\n",
    "train_acc_history = []\n",
    "valid_acc_history = []\n",
    "\n",
    "optimizer = optim.Adam(model.parameters(), lr=0.005)\n",
    "\n",
    "for epoch in range(EPOCHS):\n",
    "    train_loss, train_acc = train(model, DataLoader[\"train\"])\n",
    "    valid_loss, valid_acc = validate(model, DataLoader[\"val\"])\n",
    "    print(f\"Epoch: {epoch:2d}, training loss: {train_loss:.3f}, training acc: {train_acc:.3f} validation loss: {valid_loss:.3f}, validation acc: {valid_acc:.3f}\")\n",
    "\n",
    "    train_loss_history.append(train_loss)\n",
    "    valid_loss_history.append(valid_loss)\n",
    "\n",
    "    train_acc_history.append(train_acc)\n",
    "    valid_acc_history.append(valid_acc)\n",
    "\n",
    "    if valid_loss <= min(valid_loss_history):\n",
    "        torch.save(model.state_dict(), (os.getcwd()+\"/models/RegNet_X_16GfFeatureExtractionTransform4_Adam\"))"
   ]
  },
  {
   "cell_type": "code",
   "execution_count": null,
   "metadata": {},
   "outputs": [],
   "source": [
    "torch.save(model1.state_dict(),(os.getcwd()+\"/models/ViTFeatureExtractTransform4\"))"
   ]
  },
  {
   "cell_type": "code",
   "execution_count": null,
   "metadata": {},
   "outputs": [],
   "source": [
>>>>>>> Sofi_branch
    "# plot the losses and accuracies\n",
    "fig, (ax1, ax2) = plt.subplots(1, 2, figsize=(16, 6))\n",
    "\n",
    "ax1.plot(losses1[\"train\"], label=\"training loss\")\n",
    "ax1.plot(losses1[\"val\"], label=\"validation loss\")\n",
    "ax1.legend()\n",
    "\n",
    "ax2.plot(hist1[\"train\"],label=\"training accuracy\")\n",
    "ax2.plot(hist1[\"val\"],label=\"val accuracy\")\n",
    "ax2.legend()\n",
    "\n",
    "plt.show()   "
   ]
  },
  {
<<<<<<< HEAD
   "cell_type": "code",
   "execution_count": null,
   "id": "39a34878",
   "metadata": {},
   "outputs": [],
   "source": []
=======
   "cell_type": "markdown",
   "metadata": {},
   "source": [
    "# ConvNet HAY Q PASARLE LOS INPUUUUTS"
   ]
  },
  {
   "cell_type": "code",
   "execution_count": null,
   "metadata": {},
   "outputs": [],
   "source": [
    "# Number of classes in the dataset\n",
    "num_classes = 120\n",
    "\n",
    "# Initialize the model\n",
    "model, input_size = ConvNet(num_classes)"
   ]
  },
  {
   "cell_type": "code",
   "execution_count": null,
   "metadata": {},
   "outputs": [],
   "source": [
    "# Send the model to GPU\n",
    "model = model.to(device)\n",
    "\n",
    "# Setup the loss fxn\n",
    "criterion = nn.CrossEntropyLoss()\n",
    "\n",
    "# Number of epochs to train for \n",
    "num_epochs = 15\n",
    "\n",
    "#optimizer_ft = optim.Adam(model.parameters(), lr=0.001)\n",
    "\n",
    "# Train and evaluate\n",
    "#model1, hist1, losses1 = train_model(model, DataLoader, criterion, optimizer_ft, num_epochs=num_epochs)"
   ]
  },
  {
   "cell_type": "code",
   "execution_count": null,
   "metadata": {},
   "outputs": [],
   "source": [
    "EPOCHS = 20\n",
    "train_loss_history = []\n",
    "valid_loss_history = []\n",
    "\n",
    "train_acc_history = []\n",
    "valid_acc_history = []\n",
    "\n",
    "optimizer = optim.Adam(model.parameters(), lr=0.005)\n",
    "\n",
    "for epoch in range(EPOCHS):\n",
    "    train_loss, train_acc = train(model, DataLoader[\"train\"])\n",
    "    valid_loss, valid_acc = validate(model, DataLoader[\"val\"])\n",
    "    print(f\"Epoch: {epoch:2d}, training loss: {train_loss:.3f}, training acc: {train_acc:.3f} validation loss: {valid_loss:.3f}, validation acc: {valid_acc:.3f}\")\n",
    "\n",
    "    train_loss_history.append(train_loss)\n",
    "    valid_loss_history.append(valid_loss)\n",
    "\n",
    "    train_acc_history.append(train_acc)\n",
    "    valid_acc_history.append(valid_acc)\n",
    "\n",
    "    if valid_loss <= min(valid_loss_history):\n",
    "        torch.save(model.state_dict(), (os.getcwd()+\"/models/RegNet_X_16GfFeatureExtractionTransform4_Adam\"))"
   ]
  },
  {
   "cell_type": "code",
   "execution_count": null,
   "metadata": {},
   "outputs": [],
   "source": [
    "torch.save(model1.state_dict(),(os.getcwd()+\"/models/ViTFeatureExtractTransform4\"))"
   ]
  },
  {
   "cell_type": "code",
   "execution_count": null,
   "metadata": {},
   "outputs": [],
   "source": [
    "# plot the losses and accuracies\n",
    "fig, (ax1, ax2) = plt.subplots(1, 2, figsize=(16, 6))\n",
    "\n",
    "ax1.plot(losses1[\"train\"], label=\"training loss\")\n",
    "ax1.plot(losses1[\"val\"], label=\"validation loss\")\n",
    "ax1.legend()\n",
    "\n",
    "ax2.plot(hist1[\"train\"],label=\"training accuracy\")\n",
    "ax2.plot(hist1[\"val\"],label=\"val accuracy\")\n",
    "ax2.legend()\n",
    "\n",
    "plt.show()   "
   ]
  },
  {
   "cell_type": "markdown",
   "metadata": {},
   "source": [
    "# Net HAY Q PASARLE LOS INPUUUUTS"
   ]
  },
  {
   "cell_type": "code",
   "execution_count": null,
   "metadata": {},
   "outputs": [],
   "source": [
    "# Number of classes in the dataset\n",
    "num_classes = 120\n",
    "\n",
    "# Initialize the model\n",
    "model, input_size = Net(num_classes)"
   ]
  },
  {
   "cell_type": "code",
   "execution_count": null,
   "metadata": {},
   "outputs": [],
   "source": [
    "# Send the model to GPU\n",
    "model = model.to(device)\n",
    "\n",
    "# Setup the loss fxn\n",
    "criterion = nn.CrossEntropyLoss()\n",
    "\n",
    "# Number of epochs to train for \n",
    "num_epochs = 15\n",
    "\n",
    "#optimizer_ft = optim.Adam(model.parameters(), lr=0.001)\n",
    "\n",
    "# Train and evaluate\n",
    "#model1, hist1, losses1 = train_model(model, DataLoader, criterion, optimizer_ft, num_epochs=num_epochs)"
   ]
  },
  {
   "cell_type": "code",
   "execution_count": null,
   "metadata": {},
   "outputs": [],
   "source": [
    "EPOCHS = 20\n",
    "train_loss_history = []\n",
    "valid_loss_history = []\n",
    "\n",
    "train_acc_history = []\n",
    "valid_acc_history = []\n",
    "\n",
    "optimizer = optim.Adam(model.parameters(), lr=0.005)\n",
    "\n",
    "for epoch in range(EPOCHS):\n",
    "    train_loss, train_acc = train(model, DataLoader[\"train\"])\n",
    "    valid_loss, valid_acc = validate(model, DataLoader[\"val\"])\n",
    "    print(f\"Epoch: {epoch:2d}, training loss: {train_loss:.3f}, training acc: {train_acc:.3f} validation loss: {valid_loss:.3f}, validation acc: {valid_acc:.3f}\")\n",
    "\n",
    "    train_loss_history.append(train_loss)\n",
    "    valid_loss_history.append(valid_loss)\n",
    "\n",
    "    train_acc_history.append(train_acc)\n",
    "    valid_acc_history.append(valid_acc)\n",
    "\n",
    "    if valid_loss <= min(valid_loss_history):\n",
    "        torch.save(model.state_dict(), (os.getcwd()+\"/models/RegNet_X_16GfFeatureExtractionTransform4_Adam\"))"
   ]
  },
  {
   "cell_type": "code",
   "execution_count": null,
   "metadata": {},
   "outputs": [],
   "source": [
    "torch.save(model1.state_dict(),(os.getcwd()+\"/models/ViTFeatureExtractTransform4\"))"
   ]
  },
  {
   "cell_type": "code",
   "execution_count": null,
   "metadata": {},
   "outputs": [],
   "source": [
    "# plot the losses and accuracies\n",
    "fig, (ax1, ax2) = plt.subplots(1, 2, figsize=(16, 6))\n",
    "\n",
    "ax1.plot(losses1[\"train\"], label=\"training loss\")\n",
    "ax1.plot(losses1[\"val\"], label=\"validation loss\")\n",
    "ax1.legend()\n",
    "\n",
    "ax2.plot(hist1[\"train\"],label=\"training accuracy\")\n",
    "ax2.plot(hist1[\"val\"],label=\"val accuracy\")\n",
    "ax2.legend()\n",
    "\n",
    "plt.show()   "
   ]
  },
  {
   "cell_type": "markdown",
   "metadata": {},
   "source": [
    "# ResNet 50 "
   ]
  },
  {
   "cell_type": "code",
   "execution_count": null,
   "metadata": {},
   "outputs": [],
   "source": [
    "# Number of classes in the dataset\n",
    "num_classes = 120\n",
    "\n",
    "# Initialize the model\n",
    "res = torchvision.models.resnet50(pretrained=True)\n",
    "for param in res.parameters():\n",
    "    param.requires_grad=False\n",
    "\n",
    "model_final = ResNet50(base_model=res, base_out_features=res.fc.out_features, num_classes=120)\n",
    "model_final = model_final.to(device)"
   ]
  },
  {
   "cell_type": "code",
   "execution_count": null,
   "metadata": {},
   "outputs": [],
   "source": [
    "# Send the model to GPU\n",
    "model = model.to(device)\n",
    "\n",
    "# Setup the loss fxn\n",
    "criterion = nn.CrossEntropyLoss()\n",
    "\n",
    "# Number of epochs to train for \n",
    "num_epochs = 15\n",
    "\n",
    "#optimizer_ft = optim.Adam(model.parameters(), lr=0.001)\n",
    "\n",
    "# Train and evaluate\n",
    "#model1, hist1, losses1 = train_model(model, DataLoader, criterion, optimizer_ft, num_epochs=num_epochs)"
   ]
  },
  {
   "cell_type": "code",
   "execution_count": null,
   "metadata": {},
   "outputs": [],
   "source": [
    "EPOCHS = 20\n",
    "train_loss_history = []\n",
    "valid_loss_history = []\n",
    "\n",
    "train_acc_history = []\n",
    "valid_acc_history = []\n",
    "\n",
    "optimizer = optim.Adam(model.parameters(), lr=0.005)\n",
    "\n",
    "for epoch in range(EPOCHS):\n",
    "    train_loss, train_acc = train(model, DataLoader[\"train\"])\n",
    "    valid_loss, valid_acc = validate(model, DataLoader[\"val\"])\n",
    "    print(f\"Epoch: {epoch:2d}, training loss: {train_loss:.3f}, training acc: {train_acc:.3f} validation loss: {valid_loss:.3f}, validation acc: {valid_acc:.3f}\")\n",
    "\n",
    "    train_loss_history.append(train_loss)\n",
    "    valid_loss_history.append(valid_loss)\n",
    "\n",
    "    train_acc_history.append(train_acc)\n",
    "    valid_acc_history.append(valid_acc)\n",
    "\n",
    "    if valid_loss <= min(valid_loss_history):\n",
    "        torch.save(model.state_dict(), (os.getcwd()+\"/models/RegNet_X_16GfFeatureExtractionTransform4_Adam\"))"
   ]
  },
  {
   "cell_type": "code",
   "execution_count": null,
   "metadata": {},
   "outputs": [],
   "source": [
    "torch.save(model1.state_dict(),(os.getcwd()+\"/models/ViTFeatureExtractTransform4\"))"
   ]
  },
  {
   "cell_type": "code",
   "execution_count": null,
   "metadata": {},
   "outputs": [],
   "source": [
    "# plot the losses and accuracies\n",
    "fig, (ax1, ax2) = plt.subplots(1, 2, figsize=(16, 6))\n",
    "\n",
    "ax1.plot(losses1[\"train\"], label=\"training loss\")\n",
    "ax1.plot(losses1[\"val\"], label=\"validation loss\")\n",
    "ax1.legend()\n",
    "\n",
    "ax2.plot(hist1[\"train\"],label=\"training accuracy\")\n",
    "ax2.plot(hist1[\"val\"],label=\"val accuracy\")\n",
    "ax2.legend()\n",
    "\n",
    "plt.show()   "
   ]
  },
  {
   "cell_type": "markdown",
   "metadata": {},
   "source": [
    "# XV3V2N HAY Q PASARLE LOS INPUUUUTS"
   ]
  },
  {
   "cell_type": "code",
   "execution_count": null,
   "metadata": {},
   "outputs": [],
   "source": [
    "# Number of classes in the dataset\n",
    "num_classes = 120\n",
    "\n",
    "# Initialize the model\n",
    "model, input_size = XV3V2N(num_classes)"
   ]
  },
  {
   "cell_type": "code",
   "execution_count": null,
   "metadata": {},
   "outputs": [],
   "source": [
    "# Send the model to GPU\n",
    "model = model.to(device)\n",
    "\n",
    "# Setup the loss fxn\n",
    "criterion = nn.CrossEntropyLoss()\n",
    "\n",
    "# Number of epochs to train for \n",
    "num_epochs = 15\n",
    "\n",
    "#optimizer_ft = optim.Adam(model.parameters(), lr=0.001)\n",
    "\n",
    "# Train and evaluate\n",
    "#model1, hist1, losses1 = train_model(model, DataLoader, criterion, optimizer_ft, num_epochs=num_epochs)"
   ]
  },
  {
   "cell_type": "code",
   "execution_count": null,
   "metadata": {},
   "outputs": [],
   "source": [
    "EPOCHS = 20\n",
    "train_loss_history = []\n",
    "valid_loss_history = []\n",
    "\n",
    "train_acc_history = []\n",
    "valid_acc_history = []\n",
    "\n",
    "optimizer = optim.Adam(model.parameters(), lr=0.005)\n",
    "\n",
    "for epoch in range(EPOCHS):\n",
    "    train_loss, train_acc = train(model, DataLoader[\"train\"])\n",
    "    valid_loss, valid_acc = validate(model, DataLoader[\"val\"])\n",
    "    print(f\"Epoch: {epoch:2d}, training loss: {train_loss:.3f}, training acc: {train_acc:.3f} validation loss: {valid_loss:.3f}, validation acc: {valid_acc:.3f}\")\n",
    "\n",
    "    train_loss_history.append(train_loss)\n",
    "    valid_loss_history.append(valid_loss)\n",
    "\n",
    "    train_acc_history.append(train_acc)\n",
    "    valid_acc_history.append(valid_acc)\n",
    "\n",
    "    if valid_loss <= min(valid_loss_history):\n",
    "        torch.save(model.state_dict(), (os.getcwd()+\"/models/RegNet_X_16GfFeatureExtractionTransform4_Adam\"))"
   ]
  },
  {
   "cell_type": "code",
   "execution_count": null,
   "metadata": {},
   "outputs": [],
   "source": [
    "torch.save(model1.state_dict(),(os.getcwd()+\"/models/ViTFeatureExtractTransform4\"))"
   ]
  },
  {
   "cell_type": "code",
   "execution_count": null,
   "metadata": {},
   "outputs": [],
   "source": [
    "# plot the losses and accuracies\n",
    "fig, (ax1, ax2) = plt.subplots(1, 2, figsize=(16, 6))\n",
    "\n",
    "ax1.plot(losses1[\"train\"], label=\"training loss\")\n",
    "ax1.plot(losses1[\"val\"], label=\"validation loss\")\n",
    "ax1.legend()\n",
    "\n",
    "ax2.plot(hist1[\"train\"],label=\"training accuracy\")\n",
    "ax2.plot(hist1[\"val\"],label=\"val accuracy\")\n",
    "ax2.legend()\n",
    "\n",
    "plt.show()   "
   ]
  },
  {
   "cell_type": "markdown",
   "metadata": {},
   "source": [
    "# ConcatIXIRN HAY Q PASARLE LOS INPUUUUTS"
   ]
  },
  {
   "cell_type": "code",
   "execution_count": null,
   "metadata": {},
   "outputs": [],
   "source": [
    "# Number of classes in the dataset\n",
    "num_classes = 120\n",
    "\n",
    "# Initialize the model\n",
    "model, input_size = ConcatIXIRN(num_classes)"
   ]
  },
  {
   "cell_type": "code",
   "execution_count": null,
   "metadata": {},
   "outputs": [],
   "source": [
    "# Send the model to GPU\n",
    "model = model.to(device)\n",
    "\n",
    "# Setup the loss fxn\n",
    "criterion = nn.CrossEntropyLoss()\n",
    "\n",
    "# Number of epochs to train for \n",
    "num_epochs = 15\n",
    "\n",
    "#optimizer_ft = optim.Adam(model.parameters(), lr=0.001)\n",
    "\n",
    "# Train and evaluate\n",
    "#model1, hist1, losses1 = train_model(model, DataLoader, criterion, optimizer_ft, num_epochs=num_epochs)"
   ]
  },
  {
   "cell_type": "code",
   "execution_count": null,
   "metadata": {},
   "outputs": [],
   "source": [
    "EPOCHS = 20\n",
    "train_loss_history = []\n",
    "valid_loss_history = []\n",
    "\n",
    "train_acc_history = []\n",
    "valid_acc_history = []\n",
    "\n",
    "optimizer = optim.Adam(model.parameters(), lr=0.005)\n",
    "\n",
    "for epoch in range(EPOCHS):\n",
    "    train_loss, train_acc = train(model, DataLoader[\"train\"])\n",
    "    valid_loss, valid_acc = validate(model, DataLoader[\"val\"])\n",
    "    print(f\"Epoch: {epoch:2d}, training loss: {train_loss:.3f}, training acc: {train_acc:.3f} validation loss: {valid_loss:.3f}, validation acc: {valid_acc:.3f}\")\n",
    "\n",
    "    train_loss_history.append(train_loss)\n",
    "    valid_loss_history.append(valid_loss)\n",
    "\n",
    "    train_acc_history.append(train_acc)\n",
    "    valid_acc_history.append(valid_acc)\n",
    "\n",
    "    if valid_loss <= min(valid_loss_history):\n",
    "        torch.save(model.state_dict(), (os.getcwd()+\"/models/RegNet_X_16GfFeatureExtractionTransform4_Adam\"))"
   ]
  },
  {
   "cell_type": "code",
   "execution_count": null,
   "metadata": {},
   "outputs": [],
   "source": [
    "torch.save(model1.state_dict(),(os.getcwd()+\"/models/ViTFeatureExtractTransform4\"))"
   ]
  },
  {
   "cell_type": "code",
   "execution_count": null,
   "metadata": {},
   "outputs": [],
   "source": [
    "# plot the losses and accuracies\n",
    "fig, (ax1, ax2) = plt.subplots(1, 2, figsize=(16, 6))\n",
    "\n",
    "ax1.plot(losses1[\"train\"], label=\"training loss\")\n",
    "ax1.plot(losses1[\"val\"], label=\"validation loss\")\n",
    "ax1.legend()\n",
    "\n",
    "ax2.plot(hist1[\"train\"],label=\"training accuracy\")\n",
    "ax2.plot(hist1[\"val\"],label=\"val accuracy\")\n",
    "ax2.legend()\n",
    "\n",
    "plt.show()   "
   ]
>>>>>>> Sofi_branch
  }
 ],
 "metadata": {
  "kernelspec": {
<<<<<<< HEAD
   "display_name": "Python 3 (ipykernel)",
=======
   "display_name": "Python 3",
>>>>>>> Sofi_branch
   "language": "python",
   "name": "python3"
  },
  "language_info": {
   "codemirror_mode": {
    "name": "ipython",
    "version": 3
   },
   "file_extension": ".py",
   "mimetype": "text/x-python",
   "name": "python",
   "nbconvert_exporter": "python",
   "pygments_lexer": "ipython3",
<<<<<<< HEAD
   "version": "3.8.13"
=======
   "version": "3.8.3"
>>>>>>> Sofi_branch
  }
 },
 "nbformat": 4,
 "nbformat_minor": 5
}
